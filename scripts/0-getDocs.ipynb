{
 "cells": [
  {
   "cell_type": "code",
   "execution_count": 1,
   "metadata": {},
   "outputs": [],
   "source": [
    "import os\n",
    "import requests"
   ]
  },
  {
   "cell_type": "code",
   "execution_count": 2,
   "metadata": {},
   "outputs": [],
   "source": [
    "docs_folder = 'zipFiles'\n",
    "\n",
    "if not os.path.exists(docs_folder):\n",
    "    os.mkdir(docs_folder)"
   ]
  },
  {
   "cell_type": "code",
   "execution_count": 3,
   "metadata": {},
   "outputs": [
    {
     "name": "stdout",
     "output_type": "stream",
     "text": [
      "Page: 1\n",
      "--> 13.5.8 2024-12-21T01:52:15Z\n",
      "--> 15.1.2 2024-12-19T10:20:52Z\n",
      "--> 14.2.21 2024-12-19T10:20:47Z\n",
      "--> 15.1.1 2024-12-17T19:55:18Z\n",
      "--> 15.1.0 2024-12-10T19:52:18Z\n",
      "--> 15.0.4 2024-12-05T23:24:35Z\n",
      "--> 14.2.20 2024-12-04T21:02:29Z\n",
      "--> 14.2.19 2024-12-03T15:52:33Z\n",
      "--> 14.2.18 2024-11-13T20:35:07Z\n",
      "--> 15.0.3 2024-11-07T13:12:56Z\n",
      "--> 14.2.17 2024-11-05T23:27:08Z\n",
      "--> 15.0.2 2024-10-29T15:15:02Z\n",
      "Page: 2\n",
      "--> 15.0.1 2024-10-23T00:06:46Z\n",
      "--> 15.0.0 2024-10-21T18:14:22Z\n",
      "--> 14.2.15 2024-10-08T19:54:36Z\n",
      "--> 14.2.14 2024-10-01T17:28:06Z\n",
      "--> 14.2.13 2024-09-20T00:32:25Z\n",
      "--> 14.2.12 2024-09-17T20:44:29Z\n",
      "--> 13.5.7 2024-09-17T20:22:13Z\n",
      "--> 14.2.11 2024-09-12T19:40:40Z\n",
      "--> 14.2.10 2024-09-11T22:56:59Z\n",
      "--> 14.2.9 2024-09-09T18:46:29Z\n",
      "--> 14.2.8 2024-09-04T20:20:50Z\n",
      "--> 14.2.7 2024-08-27T15:28:48Z\n",
      "Page: 3\n",
      "--> 14.2.6 2024-08-21T23:11:13Z\n",
      "--> 14.2.5 2024-07-10T14:13:24Z\n",
      "Page: 4\n",
      "--> 14.2.4 2024-06-11T21:51:00Z\n",
      "--> 14.2.3 2024-04-24T16:27:45Z\n",
      "Page: 5\n",
      "--> 14.2.2 2024-04-17T23:57:40Z\n",
      "--> 14.2.1 2024-04-12T20:30:09Z\n",
      "--> 14.2.0 2024-04-11T19:35:38Z\n",
      "--> 14.1.4 2024-03-20T00:53:28Z\n",
      "--> 14.1.3 2024-03-06T20:37:51Z\n",
      "--> 14.1.2 2024-03-04T21:26:04Z\n",
      "Page: 6\n",
      "--> 14.1.1 2024-02-29T22:16:18Z\n",
      "--> 14.1.0 2024-01-18T21:41:03Z\n",
      "Page: 7\n",
      "--> 14.0.4 2023-12-07T21:11:21Z\n",
      "Page: 8\n",
      "--> 14.0.3 2023-11-16T18:37:34Z\n",
      "--> 14.0.2 2023-11-09T18:33:01Z\n",
      "--> 14.0.1 2023-10-30T19:21:26Z\n",
      "--> 14.0.0 2023-10-26T16:04:56Z\n",
      "--> 13.5.6 2023-10-18T22:57:23Z\n",
      "--> 13.5.5 2023-10-16T14:54:12Z\n",
      "Page: 9\n",
      "--> 13.5.4 2023-10-03T01:40:55Z\n",
      "--> 13.5.3 2023-09-25T14:24:49Z\n",
      "--> 13.5.2 2023-09-20T16:19:20Z\n",
      "--> 13.5.1 2023-09-19T17:20:56Z\n",
      "--> 13.4.19 2023-08-19T00:23:33Z\n",
      "--> 13.4.18 2023-08-18T00:16:10Z\n",
      "--> 13.4.17 2023-08-17T09:32:22Z\n",
      "--> 13.4.16 2023-08-15T01:03:26Z\n",
      "--> 13.4.15 2023-08-14T16:40:10Z\n",
      "Page: 10\n",
      "--> 13.4.13 2023-08-07T06:57:49Z\n",
      "--> 13.4.12 2023-07-21T20:30:26Z\n",
      "--> 13.4.11 2023-07-21T04:28:16Z\n",
      "--> 13.4.10 2023-07-14T09:14:18Z\n",
      "--> 13.4.9 2023-07-06T20:50:39Z\n",
      "--> 13.4.8 2023-07-03T17:00:30Z\n",
      "--> 13.4.7 2023-06-21T21:12:59Z\n",
      "--> 13.4.6 2023-06-15T21:21:36Z\n",
      "--> 13.4.5 2023-06-10T22:03:50Z\n",
      "--> 13.4.4 2023-05-25T22:02:46Z\n"
     ]
    }
   ],
   "source": [
    "consider = []\n",
    "for page_num in range(1, 11):\n",
    "    response = requests.get(\n",
    "        f\"https://api.github.com/repos/vercel/next.js/releases?per_page=100&page={page_num}\"\n",
    "    )\n",
    "\n",
    "    releases = response.json()\n",
    "    print(f\"Page: {page_num}\")\n",
    "\n",
    "    for release in releases:\n",
    "        if release['tag_name'].startswith(\"v\") and \"-\" not in release['tag_name']:\n",
    "            consider.append(release['tag_name'][1:])\n",
    "            print(\"-->\", release['tag_name'][1:], release['created_at'])\n",
    "\n",
    "# This will sort them\n",
    "consider.reverse()\n",
    "\n",
    "releases = {}\n",
    "for version in consider:\n",
    "    [major, minor, _] = version.split(\".\")\n",
    "    if major not in releases:\n",
    "        releases[major] = []\n",
    "    if minor not in releases[major]:\n",
    "        releases[major].append(minor)"
   ]
  },
  {
   "cell_type": "code",
   "execution_count": 4,
   "metadata": {},
   "outputs": [
    {
     "data": {
      "text/plain": [
       "{'13': ['4', '5'], '14': ['0', '1', '2'], '15': ['0', '1']}"
      ]
     },
     "execution_count": 4,
     "metadata": {},
     "output_type": "execute_result"
    }
   ],
   "source": [
    "releases"
   ]
  },
  {
   "cell_type": "code",
   "execution_count": 11,
   "metadata": {},
   "outputs": [
    {
     "name": "stdout",
     "output_type": "stream",
     "text": [
      "Download v13.5.0\n",
      "File downloaded and saved to zip_files/v13.5.0.zip\n",
      "Download v14.0.0\n",
      "File downloaded and saved to zip_files/v14.0.0.zip\n",
      "Download v14.1.0\n",
      "File downloaded and saved to zip_files/v14.1.0.zip\n",
      "Download v14.2.0\n",
      "File downloaded and saved to zip_files/v14.2.0.zip\n",
      "Download v15.0.0\n",
      "File downloaded and saved to zip_files/v15.0.0.zip\n",
      "Download v15.1.0\n",
      "File downloaded and saved to zip_files/v15.1.0.zip\n"
     ]
    }
   ],
   "source": [
    "for major in releases.keys():\n",
    "    for minor in releases[major]:\n",
    "        if int(major) == 13 and int(minor) < 5:\n",
    "            continue\n",
    "\n",
    "        print(f\"Download v{major}.{minor}.0\")\n",
    "        url = f\"https://api.github.com/repos/vercel/next.js/zipball/v{major}.{minor}.0\"\n",
    "        save_path = f\"{docs_folder}/v{major}.{minor}.0.zip\"\n",
    "\n",
    "        response = requests.get(url)\n",
    "        if response.status_code == 200:\n",
    "            with open(save_path, 'wb') as f:\n",
    "                f.write(response.content)\n",
    "            print(f\"File downloaded and saved to {save_path}\")\n",
    "        else:\n",
    "            print(f\"Failed to download file. HTTP status code: {response.status_code}\")"
   ]
  },
  {
   "cell_type": "code",
   "execution_count": null,
   "metadata": {},
   "outputs": [],
   "source": []
  }
 ],
 "metadata": {
  "kernelspec": {
   "display_name": "Python 3",
   "language": "python",
   "name": "python3"
  },
  "language_info": {
   "codemirror_mode": {
    "name": "ipython",
    "version": 3
   },
   "file_extension": ".py",
   "mimetype": "text/x-python",
   "name": "python",
   "nbconvert_exporter": "python",
   "pygments_lexer": "ipython3",
   "version": "3.11.6"
  }
 },
 "nbformat": 4,
 "nbformat_minor": 2
}
